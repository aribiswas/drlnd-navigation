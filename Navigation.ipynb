{
 "cells": [
  {
   "cell_type": "markdown",
   "metadata": {},
   "source": [
    "# Specify Unity environment file"
   ]
  },
  {
   "cell_type": "code",
   "execution_count": 7,
   "metadata": {},
   "outputs": [],
   "source": [
    "# Specify the Unity environment as per platform\n",
    "file_name = \"./Banana.app\"                         # Mac OSX\n",
    "#file_name = \"./Banana_Linux/Banana.x86\"            # Linux 32 bit\n",
    "#file_name = \"./Banana_Linux/Banana.x86_64\"         # Linux 64 bit\n",
    "#file_name = \"./Banana_Windows_x86/Banana.exe\"      # Windows 32 bit\n",
    "#file_name = \"./Banana_Windows_x86_64/Banana.exe\"   # Windows 64 bit"
   ]
  },
  {
   "cell_type": "markdown",
   "metadata": {},
   "source": [
    "# Create the environment"
   ]
  },
  {
   "cell_type": "code",
   "execution_count": null,
   "metadata": {},
   "outputs": [
    {
     "name": "stderr",
     "output_type": "stream",
     "text": [
      "ERROR:root:Exception calling application: Ran out of input\n",
      "Traceback (most recent call last):\n",
      "  File \"/Users/aritra/opt/anaconda3/envs/drlnd/lib/python3.6/site-packages/grpc/_server.py\", line 385, in _call_behavior\n",
      "    return behavior(argument, context), True\n",
      "  File \"/Users/aritra/opt/anaconda3/envs/drlnd/lib/python3.6/site-packages/unityagents/rpc_communicator.py\", line 26, in Exchange\n",
      "    return self.child_conn.recv()\n",
      "  File \"/Users/aritra/opt/anaconda3/envs/drlnd/lib/python3.6/multiprocessing/connection.py\", line 251, in recv\n",
      "    return _ForkingPickler.loads(buf.getbuffer())\n",
      "EOFError: Ran out of input\n"
     ]
    }
   ],
   "source": [
    "import time\n",
    "import collections\n",
    "import numpy as np\n",
    "from matplotlib import pyplot as plt\n",
    "from unityagents import UnityEnvironment\n",
    "from agents import DQNAgent\n",
    "\n",
    "# create environment\n",
    "env = UnityEnvironment(file_name)\n",
    "\n",
    "# get the default brain\n",
    "brain_name = env.brain_names[0]\n",
    "brain = env.brains[brain_name]\n",
    "\n",
    "# reset the environment\n",
    "env_info = env.reset(train_mode=False)[brain_name]"
   ]
  },
  {
   "cell_type": "markdown",
   "metadata": {},
   "source": [
    "# Create a DQN agent"
   ]
  },
  {
   "cell_type": "code",
   "execution_count": null,
   "metadata": {},
   "outputs": [],
   "source": [
    "# DQN agent hyperparameters\n",
    "BUFFERSIZE = 1000000    # Experience buffer size\n",
    "GAMMA = 0.995           # Discount factor\n",
    "EPSILON = 0.9           # Epsilon parameter for selecting action\n",
    "DECAY = 1e-5            # Epsilon decay rate\n",
    "EPMIN = 0.1             # Minimum value of epsilon\n",
    "MINIBATCHSIZE = 64      # Batch size for sampling from experience replay\n",
    "LEARNRATE = 1e-4        # Learn rate of Q network\n",
    "EPOCHS = 1              # Number of epochs to train\n",
    "UPDATEFREQ = 5          # Number of agent steps until target Q network weights are updated\n",
    "TAU = 1e-3              # Target network update factor\n",
    "ALPHA = 0.4             # Priority exponent\n",
    "BETA = 0.6              # Importance sampling exponent\n",
    "\n",
    "# training options\n",
    "MAX_EPISODES = 3000     # Maximum number of training episodes\n",
    "AVG_WINDOW = 100        # Window length for calculating score averages\n",
    "MAX_STEPS_PER_EPISODE = 1000    # Maximum agent steps per episode\n",
    "\n",
    "# create DQN agent\n",
    "osize = len(env_info.vector_observations[0])\n",
    "asize = brain.vector_action_space_size\n",
    "seed = 0\n",
    "agent = DQNAgent(osize,asize,seed,BUFFERSIZE,GAMMA,EPSILON,DECAY,EPMIN,MINIBATCHSIZE,LEARNRATE,EPOCHS,UPDATEFREQ,TAU,ALPHA,BETA)\n"
   ]
  },
  {
   "cell_type": "markdown",
   "metadata": {},
   "source": [
    "# Train the agent"
   ]
  },
  {
   "cell_type": "code",
   "execution_count": null,
   "metadata": {},
   "outputs": [],
   "source": [
    "# log scores\n",
    "reward_log = []\n",
    "avg_log = []\n",
    "avg_window = collections.deque(maxlen=AVG_WINDOW)\n",
    "\n",
    "# Train the agent\n",
    "for ep_count in range(1,MAX_EPISODES):\n",
    "\n",
    "    # reset the environment\n",
    "    env_info = env.reset(train_mode=True)[brain_name]\n",
    "    state = env_info.vector_observations[0]\n",
    "    \n",
    "    ep_reward = 0\n",
    "    \n",
    "    for t in range(1,MAX_STEPS_PER_EPISODE):\n",
    "        # sample action from the current policy\n",
    "        action = int(agent.get_action(state))\n",
    "        \n",
    "        # step the environment\n",
    "        env_info = env.step(action)[brain_name]\n",
    "        next_state = env_info.vector_observations[0]\n",
    "        reward = env_info.rewards[0] \n",
    "        done = env_info.local_done[0]\n",
    "        \n",
    "        # step the agent\n",
    "        update = True if ep_count % UPDATEFREQ == 0 else False\n",
    "        agent.step(state,action,reward,next_state,done,update)\n",
    "        \n",
    "        state = next_state\n",
    "        ep_reward += reward\n",
    "        \n",
    "        # terminate if done\n",
    "        if done:\n",
    "            break\n",
    "    \n",
    "    # print training progress\n",
    "    #avg_reward = np.sum(reward_log[max(ep_count-AVG_WINDOW-1,0):ep_count])/(min(ep_count,AVG_WINDOW))\n",
    "    avg_window.append(ep_reward)\n",
    "    avg_reward = np.mean(avg_window)\n",
    "    avg_log.append(avg_reward)\n",
    "    reward_log.append(ep_reward)\n",
    "    print('Episode: {} \\tEpisode Steps: {} \\tEpisode Reward: {:8.4f} \\tAverage Reward: {:8.4f}'.format(ep_count,t,ep_reward,avg_reward))\n",
    "    \n",
    "    # check if env is solved\n",
    "    if avg_log[ep_count-1] >= 13:\n",
    "        break\n",
    "    \n",
    "print('Training complete. Final score: {:.2f}'.format(avg_score[ep_count]))\n",
    "\n",
    "# Close environment\n",
    "env.close()\n"
   ]
  },
  {
   "cell_type": "code",
   "execution_count": 6,
   "metadata": {},
   "outputs": [
    {
     "data": {
      "image/png": "[encoded data removed]",
      "text/plain": [
       "<Figure size 432x288 with 1 Axes>"
      ]
     },
     "metadata": {
      "needs_background": "light"
     },
     "output_type": "display_data"
    }
   ],
   "source": [
    "# plot score history\n",
    "plt.ion()\n",
    "fig, ax = plt.subplots()\n",
    "ax.set_title(\"Training Progress\")\n",
    "ax.set_xlabel(\"Episodes\")\n",
    "ax.set_ylabel(\"Average Reward\")\n",
    "ax.set_xlim([0, ep_count+20])\n",
    "ax.set_ylim([0, 15])\n",
    "ax.plot(range(1,ep_count),avg_log)\n",
    "plt.show()"
   ]
  },
  {
   "cell_type": "code",
   "execution_count": null,
   "metadata": {},
   "outputs": [],
   "source": []
  }
 ],
 "metadata": {
  "kernelspec": {
   "display_name": "drlnd",
   "language": "python",
   "name": "drlnd"
  },
  "language_info": {
   "codemirror_mode": {
    "name": "ipython",
    "version": 3
   },
   "file_extension": ".py",
   "mimetype": "text/x-python",
   "name": "python",
   "nbconvert_exporter": "python",
   "pygments_lexer": "ipython3",
   "version": "3.6.10"
  }
 },
 "nbformat": 4,
 "nbformat_minor": 4
}
